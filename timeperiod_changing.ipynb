{
 "cells": [
  {
   "cell_type": "markdown",
   "metadata": {},
   "source": [
    "- here put your symbol, data range, it will import data from nse and then convert it into monthaly timeframe and then save it to monthaly_data/symbol.csv \n",
    "- then it perform 5-10 lacs calculation and find max profit in given date range and save this found data to 'monthaly_all_in_one.csv'\n",
    "- then add cumsum and cumprod in monthaly_data/symbol.csv and save it\n",
    "- it not works for indexs"
   ]
  },
  {
   "cell_type": "code",
   "execution_count": 9,
   "metadata": {},
   "outputs": [],
   "source": [
    "import matplotlib.pyplot as plt\n",
    "import numpy as np\n",
    "from nselib import capital_market \n",
    "import pandas as pd\n",
    "\n",
    "import matplotlib.pyplot as plt \n",
    "symbol = \"ADANIENT\"\n",
    "fdate='01-01-2014'\n",
    "tdate='25-08-2024'\n"
   ]
  },
  {
   "cell_type": "markdown",
   "metadata": {},
   "source": [
    "## importing data"
   ]
  },
  {
   "cell_type": "code",
   "execution_count": 10,
   "metadata": {},
   "outputs": [],
   "source": [
    "\n",
    "data = capital_market.price_volume_and_deliverable_position_data(symbol=symbol, from_date=fdate, to_date=tdate)\n",
    "df = pd.DataFrame(data)\n",
    "\n"
   ]
  },
  {
   "cell_type": "code",
   "execution_count": 11,
   "metadata": {},
   "outputs": [],
   "source": [
    "df1 = df[[\"Date\", \"Symbol\", \"OpenPrice\", \"HighPrice\", \"LowPrice\", \"ClosePrice\"]]"
   ]
  },
  {
   "cell_type": "code",
   "execution_count": null,
   "metadata": {},
   "outputs": [],
   "source": [
    "def replace_commas(x):\n",
    "    if isinstance(x, str):\n",
    "        return x.replace(',', '')\n",
    "    return x\n",
    "\n",
    "# Apply the function to columns\n",
    "df1[\"HighPrice\"] = df1['HighPrice'].apply(replace_commas)\n",
    "try:\n",
    "    df1[\"OpenPrice\"] = df1['OpenPrice'].apply(replace_commas)\n",
    "    df1[\"ClosePrice\"] = df1['ClosePrice'].apply(replace_commas)\n",
    "    df1[\"LowPrice\"] = df1['LowPrice'].apply(replace_commas)\n",
    "except:\n",
    "    print(\"Replace done!\")\n",
    "\n",
    "# Convert columns to numeric\n",
    "df1[\"HighPrice\"] = pd.to_numeric(df1[\"HighPrice\"], errors='coerce')\n",
    "df1[\"OpenPrice\"] = pd.to_numeric(df1[\"OpenPrice\"], errors='coerce')\n",
    "df1[\"ClosePrice\"] = pd.to_numeric(df1[\"ClosePrice\"], errors='coerce')\n",
    "df1[\"LowPrice\"] = pd.to_numeric(df1[\"LowPrice\"], errors='coerce')"
   ]
  },
  {
   "cell_type": "code",
   "execution_count": null,
   "metadata": {},
   "outputs": [],
   "source": [
    "df1['Date']=pd.to_datetime(df1['Date'])\n",
    "df1[\"day\"] = df1['Date'].dt.day\n",
    "df1[\"month\"] = df1['Date'].dt.month\n",
    "df1[\"year\"] = df1['Date'].dt.year\n",
    "df1=df1.groupby([\"year\",\"month\"])"
   ]
  },
  {
   "cell_type": "markdown",
   "metadata": {},
   "source": [
    "## converting in monthaly time frame and preparing for calculation"
   ]
  },
  {
   "cell_type": "code",
   "execution_count": 14,
   "metadata": {},
   "outputs": [],
   "source": [
    "month=[]\n",
    "year=[]\n",
    "OpenPrice=[]\n",
    "ClosePrice=[]\n",
    "HighPrice=[]\n",
    "LowPrice=[]\n",
    "symbole=[]\n",
    "\n",
    "for name , group in df1:   \n",
    "   symbole.append(group['Symbol'].values[0])\n",
    "   month.append(name[1])\n",
    "   year.append(name[0])\n",
    "   OpenPrice.append(group['OpenPrice'].values[0])\n",
    "   ClosePrice.append(group['ClosePrice'].values[-1:][0])\n",
    "   HighPrice.append(group['HighPrice'].max())\n",
    "   LowPrice.append(group['LowPrice'].min()) \n",
    "\n"
   ]
  },
  {
   "cell_type": "code",
   "execution_count": null,
   "metadata": {},
   "outputs": [],
   "source": []
  },
  {
   "cell_type": "code",
   "execution_count": 15,
   "metadata": {},
   "outputs": [],
   "source": [
    "df2={\"symbol\":symbole,\"month\":month,\"year\":year,\"OpenPrice\":OpenPrice,\"HighPrice\":HighPrice,\"LowPrice\":LowPrice,\"ClosePrice\":ClosePrice}\n",
    "df2=pd.DataFrame(df2)\n",
    "df1=df2"
   ]
  },
  {
   "cell_type": "code",
   "execution_count": 16,
   "metadata": {},
   "outputs": [],
   "source": [
    "\n",
    "\n",
    "# Calculate percentage changes\n",
    "df1[\"High%\"] = (df1[\"HighPrice\"] - df1[\"OpenPrice\"]) * 100 / df1[\"OpenPrice\"]\n",
    "df1[\"High%\"] = df1[\"High%\"].apply(lambda x: \"{:.3f}\".format(x))\n",
    "\n",
    "df1[\"Low%\"] = (df1[\"LowPrice\"] - df1[\"OpenPrice\"]) * 100 / df1[\"OpenPrice\"]\n",
    "df1[\"Low%\"] = df1[\"Low%\"].apply(lambda x: \"{:.3f}\".format(x))\n",
    "\n",
    "df1[\"Close%\"] = (df1[\"ClosePrice\"] - df1[\"OpenPrice\"]) * 100 / df1[\"OpenPrice\"]\n",
    "df1[\"Close%\"] = df1[\"Close%\"].apply(lambda x: \"{:.3f}\".format(x))\n",
    "\n",
    "# Convert percentage columns back to numeric\n",
    "df1[\"Low%\"] = pd.to_numeric(df1[\"Low%\"], errors='coerce')\n",
    "df1[\"High%\"] = pd.to_numeric(df1[\"High%\"], errors='coerce')\n",
    "df1[\"Close%\"] = pd.to_numeric(df1[\"Close%\"], errors='coerce')\n",
    "\n",
    "# Calculate target and stoploss percentages\n",
    "df1.loc[abs(df1['High%']) <= abs(df1['Low%']), 'target_wrt_h&l%'] = abs(df1['Low%'])\n",
    "df1.loc[abs(df1['High%']) > abs(df1['Low%']), 'target_wrt_h&l%'] = abs(df1['High%'])\n",
    "df1.loc[abs(df1['High%']) >= abs(df1['Low%']), 'stoploss_wrt_h&l%'] = abs(df1['Low%'])\n",
    "df1.loc[abs(df1['High%']) < abs(df1['Low%']), 'stoploss_wrt_h&l%'] = abs(df1['High%'])\n",
    "\n",
    "# Determine profit decider\n",
    "df1.loc[abs(df1['target_wrt_h&l%']) == abs(df1['High%']), 'profit_decider'] = abs(df1['Low%'])\n",
    "df1.loc[abs(df1['target_wrt_h&l%']) == abs(df1['Low%']), 'profit_decider'] = abs(df1['High%'])\n",
    "df1.to_csv(f\"monthaly_data/{symbol}.csv\",index=False)"
   ]
  },
  {
   "cell_type": "markdown",
   "metadata": {},
   "source": [
    "## function for the calculation"
   ]
  },
  {
   "cell_type": "code",
   "execution_count": 2,
   "metadata": {},
   "outputs": [],
   "source": [
    "def prfdata(symbol,stploss,trgt):\n",
    "    df1=pd.read_csv(f\"monthaly_data/{symbol}.csv\")   \n",
    "    df1['stploss']=df1['target_wrt_h&l%'].apply(lambda x:stploss)\n",
    "    df1['trgt']=df1['target_wrt_h&l%'].apply(lambda x:trgt)\n",
    "    df1['stploss']=pd.to_numeric(df1['stploss'])\n",
    "    df1['trgt']=pd.to_numeric(df1['trgt'])\n",
    "\n",
    "    df1.loc[((abs(df1['target_wrt_h&l%']) >= df1['trgt']) & ((abs(df1['profit_decider'])) < df1['stploss'])), 'profit'] = (df1['trgt']-df1['stploss'])\n",
    "    df1.loc[(abs(df1['profit_decider']) >= df1['stploss']) , 'profit'] = -(2 * df1['stploss'])\n",
    "    df1.loc[((abs(df1['target_wrt_h&l%']) < abs(df1['trgt'])) & ((abs(df1['profit_decider'])) < df1['stploss']) ) , 'profit'] = (abs(df1['Close%'])-df1['stploss'])\n",
    "    df1['profit'] = pd.to_numeric(df1['profit'])\n",
    "\n",
    "    profit = df1['profit'].sum()\n",
    "    # print(f\"Total profit = {profit}% in 2 years\")\n",
    "    data1 = df1.groupby(['year']).agg({\"profit\": \"sum\"})\n",
    "\n",
    "    data = 1 + data1.values / 100\n",
    "    overallprofit = 100 * data.cumprod()[-1:][0]\n",
    "    formatted_overallprofit = \"{:.4f}\".format(overallprofit)\n",
    "    # print(f\"Total profit made in 2 years = {formatted_overallprofit}%\")\n",
    "\n",
    "    arr=[]\n",
    "\n",
    "    for i in range(len(data1.values)):\n",
    "        n=data1.values[i][0]\n",
    "        arr.append(n)\n",
    "    dic={\"tprofit\":profit,\"cprofit\":formatted_overallprofit,\"data\":data1}\n",
    "    # df1.to_csv(f\"monthaly_data/{symbol}.csv\",index=False)\n",
    "    \n",
    "    return dic\n"
   ]
  },
  {
   "cell_type": "code",
   "execution_count": null,
   "metadata": {},
   "outputs": [],
   "source": [
    "def prfdata1(symbol,stploss,trgt):\n",
    "    df1=pd.read_csv(f\"monthaly_data/{symbol}.csv\")   \n",
    "    df1['stploss']=df1['target_wrt_h&l%'].apply(lambda x:stploss)\n",
    "    df1['trgt']=df1['target_wrt_h&l%'].apply(lambda x:trgt)\n",
    "    df1['stploss']=pd.to_numeric(df1['stploss'])\n",
    "    df1['trgt']=pd.to_numeric(df1['trgt'])\n",
    "\n",
    "    df1.loc[((abs(df1['target_wrt_h&l%']) >= df1['trgt']) & ((abs(df1['profit_decider'])) < df1['stploss'])), 'profit'] = (df1['trgt']-df1['stploss'])\n",
    "    df1.loc[(abs(df1['profit_decider']) >= df1['stploss']) , 'profit'] = -(2 * df1['stploss'])\n",
    "    df1.loc[((abs(df1['target_wrt_h&l%']) < abs(df1['trgt'])) & ((abs(df1['profit_decider'])) < df1['stploss']) ) , 'profit'] = (abs(df1['Close%'])-df1['stploss'])\n",
    "    df1['profit'] = pd.to_numeric(df1['profit'])\n",
    "\n",
    "    profit = df1['profit'].sum()\n",
    "    # print(f\"Total profit = {profit}% in 2 years\")\n",
    "    data1 = df1.groupby(['year']).agg({\"profit\": \"sum\"})\n",
    "\n",
    "    data = 1 + data1.values / 100\n",
    "    overallprofit = 100 * data.cumprod()[-1:][0]\n",
    "    formatted_overallprofit = \"{:.4f}\".format(overallprofit)\n",
    "    # print(f\"Total profit made in 2 years = {formatted_overallprofit}%\")\n",
    "\n",
    "    arr=[]\n",
    "\n",
    "    for i in range(len(data1.values)):\n",
    "        n=data1.values[i][0]\n",
    "        arr.append(n)\n",
    "    dic={\"tprofit\":profit,\"cprofit\":formatted_overallprofit,\"data\":data1}\n",
    "    df1.to_csv(f\"monthaly_data/{symbol}.csv\",index=False)\n",
    "    \n",
    "    return dic\n"
   ]
  },
  {
   "cell_type": "code",
   "execution_count": null,
   "metadata": {},
   "outputs": [],
   "source": [
    "stp = np.arange(0,10,0.01)\n",
    "trgt =np.arange(0,30,0.1)\n",
    "\n",
    "max=0\n",
    "fstp=0\n",
    "ftrgt=0\n",
    "pmdata=[]\n",
    "for estp in stp:\n",
    "    print(estp)\n",
    "    for etrgt in trgt:\n",
    "        cc=prfdata(symbol,estp,etrgt)        \n",
    "        if(max<cc['tprofit']):            \n",
    "            max=cc['tprofit']\n",
    "            fstp=estp\n",
    "            ftrgt=etrgt\n",
    "            pmdata=cc['data']\n",
    "            # print(f\"{max}  {estp}  {etrgt} \")\n",
    "prfdata1(symbol,fstp,ftrgt)\n",
    "        \n",
    "            \n"
   ]
  },
  {
   "cell_type": "code",
   "execution_count": null,
   "metadata": {},
   "outputs": [],
   "source": [
    "maxc=(np.array(pmdata)/100+1).cumprod()[-1:][0]*100\n",
    "dataf={\"symbol\":[symbol],\"tprofit\":[max],\"cprofit\":[maxc],\"target\":[ftrgt],\"stoploss\":[fstp]}\n",
    "df23=pd.DataFrame(dataf)\n",
    "df24=pd.read_csv(\"month_all_in_one.csv\")\n",
    "df25=pd.concat([df24,df23])\n",
    "df25.to_csv(\"month_all_in_one.csv\",index=False)"
   ]
  },
  {
   "cell_type": "code",
   "execution_count": 21,
   "metadata": {},
   "outputs": [],
   "source": [
    "\n",
    "ddata=pd.read_csv(f\"monthaly_data/{symbol}.csv\")\n",
    "ddata[\"cumsum\"]=ddata['profit'].cumsum()\n",
    "ddata[\"cumprod\"]=(ddata['profit']/100+1).cumprod()\n",
    "ddata.to_csv(f\"monthaly_data/{symbol}.csv\")"
   ]
  }
 ],
 "metadata": {
  "kernelspec": {
   "display_name": "Python 3",
   "language": "python",
   "name": "python3"
  },
  "language_info": {
   "codemirror_mode": {
    "name": "ipython",
    "version": 3
   },
   "file_extension": ".py",
   "mimetype": "text/x-python",
   "name": "python",
   "nbconvert_exporter": "python",
   "pygments_lexer": "ipython3",
   "version": "3.11.4"
  }
 },
 "nbformat": 4,
 "nbformat_minor": 2
}
